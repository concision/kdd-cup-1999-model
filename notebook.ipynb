{
 "cells": [
  {
   "cell_type": "markdown",
   "source": [
    "<h1 align=\"center\">KDD Cup 1999 Model</h1>"
   ],
   "metadata": {
    "collapsed": false,
    "pycharm": {
     "name": "#%% md\n"
    }
   }
  },
  {
   "cell_type": "markdown",
   "source": [
    "<hr style=\"border-top: 2px solid #444\">"
   ],
   "metadata": {
    "collapsed": false,
    "pycharm": {
     "name": "#%% md\n"
    }
   }
  },
  {
   "cell_type": "markdown",
   "source": [
    "## Development Environment\n",
    "In this section, the development environment for this Jupyter notebook project is prepared by collecting Python dependencies, importing libraries, and configuring the runtime environment."
   ],
   "metadata": {
    "collapsed": false
   }
  },
  {
   "cell_type": "markdown",
   "source": [
    "### Python Dependencies\n",
    "External Python dependencies are collected through the [Pipenv](https://pypi.org/project/pipenv/) package manager since it supports dependency lock-files. In the following script, `pipenv` and its transitive dependencies are installed from `pipenv-requirements.txt` and then the notebook's dependencies are installed from `Pipfile` and `Pipfile.lock`."
   ],
   "metadata": {
    "collapsed": false
   }
  },
  {
   "cell_type": "code",
   "execution_count": 1,
   "metadata": {
    "collapsed": true
   },
   "outputs": [],
   "source": [
    "#!pip install -r pipenv-requirements.txt\n",
    "#!pipenv install"
   ]
  },
  {
   "cell_type": "markdown",
   "source": [
    "### Library Imports\n",
    "All internal standard libraries and external libraries are imported here, with some stated dependency versions."
   ],
   "metadata": {
    "collapsed": false,
    "pycharm": {
     "name": "#%% md\n"
    }
   }
  },
  {
   "cell_type": "code",
   "execution_count": 2,
   "outputs": [],
   "source": [
    "import gzip\n",
    "import re\n",
    "import pandas\n",
    "import numpy\n",
    "import requests\n",
    "import tensorflow\n",
    "from enum import Enum\n",
    "from os import path\n",
    "import matplotlib.pyplot as pyplot\n"
   ],
   "metadata": {
    "collapsed": false,
    "pycharm": {
     "name": "#%%\n"
    }
   }
  },
  {
   "cell_type": "markdown",
   "source": [
    "### Configure PRNG Seed\n",
    "Numpy, Tensorflow, and SciKit rely on [pseudorandom number generators](https://en.wikipedia.org/wiki/Pseudorandom_number_generator) as their internal source for randomness. To guarantee deterministic behaviour and reproducible results for this notebook's execution, an arbitrary seed is configured."
   ],
   "metadata": {
    "collapsed": false,
    "pycharm": {
     "name": "#%% md\n"
    }
   }
  },
  {
   "cell_type": "code",
   "execution_count": 3,
   "outputs": [],
   "source": [
    "PRNG_SEED = 42\n",
    "\n",
    "numpy.random.seed(PRNG_SEED)\n",
    "tensorflow.random.set_seed(PRNG_SEED)"
   ],
   "metadata": {
    "collapsed": false,
    "pycharm": {
     "name": "#%%\n"
    }
   }
  },
  {
   "cell_type": "markdown",
   "source": [
    "<hr style=\"border-top: 2px solid #444\">"
   ],
   "metadata": {
    "collapsed": false
   }
  },
  {
   "cell_type": "markdown",
   "source": [
    "## I. Data Importation\n",
    "\n",
    "Source: http://kdd.ics.uci.edu/databases/kddcup99/kddcup99.html"
   ],
   "metadata": {
    "collapsed": false
   }
  },
  {
   "cell_type": "code",
   "execution_count": 4,
   "outputs": [],
   "source": [
    "# create 'data' cache directory\n",
    "if not path.exists('data'):\n",
    "    path.makedirs('data')"
   ],
   "metadata": {
    "collapsed": false,
    "pycharm": {
     "name": "#%%\n"
    }
   }
  },
  {
   "cell_type": "markdown",
   "source": [
    "### Fetch Column Types: Categorical vs Continuous"
   ],
   "metadata": {
    "collapsed": false
   }
  },
  {
   "cell_type": "code",
   "execution_count": 5,
   "outputs": [],
   "source": [
    "DATASET_COLUMNS_FILE = path.join(\"data\", \"kddcup1999_columns.txt\")\n",
    "\n",
    "if not path.exists(DATASET_COLUMNS_FILE):\n",
    "    with requests.get(\"http://kdd.ics.uci.edu/databases/kddcup99/kddcup.names\") as request:\n",
    "        with open(DATASET_COLUMNS_FILE, 'wb') as file:\n",
    "            file.write(request.content)"
   ],
   "metadata": {
    "collapsed": false,
    "pycharm": {
     "name": "#%%\n"
    }
   }
  },
  {
   "cell_type": "markdown",
   "source": [
    "### Fetch Labeled CSV Dataset"
   ],
   "metadata": {
    "collapsed": false
   }
  },
  {
   "cell_type": "code",
   "execution_count": 6,
   "outputs": [],
   "source": [
    "DATASET_URL = \"http://kdd.ics.uci.edu/databases/kddcup99/kddcup.data.gz\"\n",
    "DATASET_FILE = path.join(\"data\", \"kddcup1999.csv\")\n",
    "\n",
    "# download dataset if not already cached\n",
    "if not path.exists(DATASET_FILE):\n",
    "    with requests.get(DATASET_URL) as response:\n",
    "        if response.status_code != 200:\n",
    "            raise RuntimeError(f\"failed to download dataset: {DATASET_URL}\")\n",
    "        # decompress content\n",
    "        with open(DATASET_FILE, 'wb') as file:\n",
    "            file.write(gzip.decompress(response.content))"
   ],
   "metadata": {
    "collapsed": false,
    "pycharm": {
     "name": "#%%\n"
    }
   }
  },
  {
   "cell_type": "markdown",
   "source": [
    "### Load Column Types"
   ],
   "metadata": {
    "collapsed": false,
    "pycharm": {
     "name": "#%% md\n"
    }
   }
  },
  {
   "cell_type": "code",
   "execution_count": 7,
   "outputs": [],
   "source": [
    "ColumnType = Enum('ColumnType', 'SYMBOLIC CONTINUOUS')\n",
    "column_types = {}\n",
    "\n",
    "with open(DATASET_COLUMNS_FILE, 'r') as file:\n",
    "    column_labels: str = file.read()\n",
    "\n",
    "column_regex: re.Pattern = re.compile(r\"^(?P<column_name>\\w+): (?P<data_type>\\w+)\\.$\")\n",
    "for column_type in column_labels.splitlines()[1:]:\n",
    "    match = column_regex.match(column_type)\n",
    "    column_types[match.group(\"column_name\")] = ColumnType[match.group(\"data_type\").upper()]"
   ],
   "metadata": {
    "collapsed": false,
    "pycharm": {
     "name": "#%%\n"
    }
   }
  },
  {
   "cell_type": "markdown",
   "source": [
    "### Load CSV Dataset"
   ],
   "metadata": {
    "collapsed": false
   }
  },
  {
   "cell_type": "code",
   "execution_count": 8,
   "outputs": [
    {
     "data": {
      "text/plain": "         duration protocol_type service flag  src_bytes  dst_bytes  land  \\\n0               0           tcp    http   SF        215      45076     0   \n1               0           tcp    http   SF        162       4528     0   \n2               0           tcp    http   SF        236       1228     0   \n3               0           tcp    http   SF        233       2032     0   \n4               0           tcp    http   SF        239        486     0   \n...           ...           ...     ...  ...        ...        ...   ...   \n4898426         0           tcp    http   SF        212       2288     0   \n4898427         0           tcp    http   SF        219        236     0   \n4898428         0           tcp    http   SF        218       3610     0   \n4898429         0           tcp    http   SF        219       1234     0   \n4898430         0           tcp    http   SF        219       1098     0   \n\n         wrong_fragment  urgent  hot  ...  dst_host_srv_count  \\\n0                     0       0    0  ...                   0   \n1                     0       0    0  ...                   1   \n2                     0       0    0  ...                   2   \n3                     0       0    0  ...                   3   \n4                     0       0    0  ...                   4   \n...                 ...     ...  ...  ...                 ...   \n4898426               0       0    0  ...                 255   \n4898427               0       0    0  ...                 255   \n4898428               0       0    0  ...                 255   \n4898429               0       0    0  ...                 255   \n4898430               0       0    0  ...                 255   \n\n         dst_host_same_srv_rate  dst_host_diff_srv_rate  \\\n0                           0.0                     0.0   \n1                           1.0                     0.0   \n2                           1.0                     0.0   \n3                           1.0                     0.0   \n4                           1.0                     0.0   \n...                         ...                     ...   \n4898426                     1.0                     0.0   \n4898427                     1.0                     0.0   \n4898428                     1.0                     0.0   \n4898429                     1.0                     0.0   \n4898430                     1.0                     0.0   \n\n         dst_host_same_src_port_rate  dst_host_srv_diff_host_rate  \\\n0                               0.00                         0.00   \n1                               1.00                         0.00   \n2                               0.50                         0.00   \n3                               0.33                         0.00   \n4                               0.25                         0.00   \n...                              ...                          ...   \n4898426                         0.33                         0.05   \n4898427                         0.25                         0.05   \n4898428                         0.20                         0.05   \n4898429                         0.17                         0.05   \n4898430                         0.14                         0.05   \n\n         dst_host_serror_rate  dst_host_srv_serror_rate  dst_host_rerror_rate  \\\n0                         0.0                      0.00                   0.0   \n1                         0.0                      0.00                   0.0   \n2                         0.0                      0.00                   0.0   \n3                         0.0                      0.00                   0.0   \n4                         0.0                      0.00                   0.0   \n...                       ...                       ...                   ...   \n4898426                   0.0                      0.01                   0.0   \n4898427                   0.0                      0.01                   0.0   \n4898428                   0.0                      0.01                   0.0   \n4898429                   0.0                      0.01                   0.0   \n4898430                   0.0                      0.01                   0.0   \n\n         dst_host_srv_rerror_rate  outcome  \n0                             0.0  normal.  \n1                             0.0  normal.  \n2                             0.0  normal.  \n3                             0.0  normal.  \n4                             0.0  normal.  \n...                           ...      ...  \n4898426                       0.0  normal.  \n4898427                       0.0  normal.  \n4898428                       0.0  normal.  \n4898429                       0.0  normal.  \n4898430                       0.0  normal.  \n\n[4898431 rows x 42 columns]",
      "text/html": "<div>\n<style scoped>\n    .dataframe tbody tr th:only-of-type {\n        vertical-align: middle;\n    }\n\n    .dataframe tbody tr th {\n        vertical-align: top;\n    }\n\n    .dataframe thead th {\n        text-align: right;\n    }\n</style>\n<table border=\"1\" class=\"dataframe\">\n  <thead>\n    <tr style=\"text-align: right;\">\n      <th></th>\n      <th>duration</th>\n      <th>protocol_type</th>\n      <th>service</th>\n      <th>flag</th>\n      <th>src_bytes</th>\n      <th>dst_bytes</th>\n      <th>land</th>\n      <th>wrong_fragment</th>\n      <th>urgent</th>\n      <th>hot</th>\n      <th>...</th>\n      <th>dst_host_srv_count</th>\n      <th>dst_host_same_srv_rate</th>\n      <th>dst_host_diff_srv_rate</th>\n      <th>dst_host_same_src_port_rate</th>\n      <th>dst_host_srv_diff_host_rate</th>\n      <th>dst_host_serror_rate</th>\n      <th>dst_host_srv_serror_rate</th>\n      <th>dst_host_rerror_rate</th>\n      <th>dst_host_srv_rerror_rate</th>\n      <th>outcome</th>\n    </tr>\n  </thead>\n  <tbody>\n    <tr>\n      <th>0</th>\n      <td>0</td>\n      <td>tcp</td>\n      <td>http</td>\n      <td>SF</td>\n      <td>215</td>\n      <td>45076</td>\n      <td>0</td>\n      <td>0</td>\n      <td>0</td>\n      <td>0</td>\n      <td>...</td>\n      <td>0</td>\n      <td>0.0</td>\n      <td>0.0</td>\n      <td>0.00</td>\n      <td>0.00</td>\n      <td>0.0</td>\n      <td>0.00</td>\n      <td>0.0</td>\n      <td>0.0</td>\n      <td>normal.</td>\n    </tr>\n    <tr>\n      <th>1</th>\n      <td>0</td>\n      <td>tcp</td>\n      <td>http</td>\n      <td>SF</td>\n      <td>162</td>\n      <td>4528</td>\n      <td>0</td>\n      <td>0</td>\n      <td>0</td>\n      <td>0</td>\n      <td>...</td>\n      <td>1</td>\n      <td>1.0</td>\n      <td>0.0</td>\n      <td>1.00</td>\n      <td>0.00</td>\n      <td>0.0</td>\n      <td>0.00</td>\n      <td>0.0</td>\n      <td>0.0</td>\n      <td>normal.</td>\n    </tr>\n    <tr>\n      <th>2</th>\n      <td>0</td>\n      <td>tcp</td>\n      <td>http</td>\n      <td>SF</td>\n      <td>236</td>\n      <td>1228</td>\n      <td>0</td>\n      <td>0</td>\n      <td>0</td>\n      <td>0</td>\n      <td>...</td>\n      <td>2</td>\n      <td>1.0</td>\n      <td>0.0</td>\n      <td>0.50</td>\n      <td>0.00</td>\n      <td>0.0</td>\n      <td>0.00</td>\n      <td>0.0</td>\n      <td>0.0</td>\n      <td>normal.</td>\n    </tr>\n    <tr>\n      <th>3</th>\n      <td>0</td>\n      <td>tcp</td>\n      <td>http</td>\n      <td>SF</td>\n      <td>233</td>\n      <td>2032</td>\n      <td>0</td>\n      <td>0</td>\n      <td>0</td>\n      <td>0</td>\n      <td>...</td>\n      <td>3</td>\n      <td>1.0</td>\n      <td>0.0</td>\n      <td>0.33</td>\n      <td>0.00</td>\n      <td>0.0</td>\n      <td>0.00</td>\n      <td>0.0</td>\n      <td>0.0</td>\n      <td>normal.</td>\n    </tr>\n    <tr>\n      <th>4</th>\n      <td>0</td>\n      <td>tcp</td>\n      <td>http</td>\n      <td>SF</td>\n      <td>239</td>\n      <td>486</td>\n      <td>0</td>\n      <td>0</td>\n      <td>0</td>\n      <td>0</td>\n      <td>...</td>\n      <td>4</td>\n      <td>1.0</td>\n      <td>0.0</td>\n      <td>0.25</td>\n      <td>0.00</td>\n      <td>0.0</td>\n      <td>0.00</td>\n      <td>0.0</td>\n      <td>0.0</td>\n      <td>normal.</td>\n    </tr>\n    <tr>\n      <th>...</th>\n      <td>...</td>\n      <td>...</td>\n      <td>...</td>\n      <td>...</td>\n      <td>...</td>\n      <td>...</td>\n      <td>...</td>\n      <td>...</td>\n      <td>...</td>\n      <td>...</td>\n      <td>...</td>\n      <td>...</td>\n      <td>...</td>\n      <td>...</td>\n      <td>...</td>\n      <td>...</td>\n      <td>...</td>\n      <td>...</td>\n      <td>...</td>\n      <td>...</td>\n      <td>...</td>\n    </tr>\n    <tr>\n      <th>4898426</th>\n      <td>0</td>\n      <td>tcp</td>\n      <td>http</td>\n      <td>SF</td>\n      <td>212</td>\n      <td>2288</td>\n      <td>0</td>\n      <td>0</td>\n      <td>0</td>\n      <td>0</td>\n      <td>...</td>\n      <td>255</td>\n      <td>1.0</td>\n      <td>0.0</td>\n      <td>0.33</td>\n      <td>0.05</td>\n      <td>0.0</td>\n      <td>0.01</td>\n      <td>0.0</td>\n      <td>0.0</td>\n      <td>normal.</td>\n    </tr>\n    <tr>\n      <th>4898427</th>\n      <td>0</td>\n      <td>tcp</td>\n      <td>http</td>\n      <td>SF</td>\n      <td>219</td>\n      <td>236</td>\n      <td>0</td>\n      <td>0</td>\n      <td>0</td>\n      <td>0</td>\n      <td>...</td>\n      <td>255</td>\n      <td>1.0</td>\n      <td>0.0</td>\n      <td>0.25</td>\n      <td>0.05</td>\n      <td>0.0</td>\n      <td>0.01</td>\n      <td>0.0</td>\n      <td>0.0</td>\n      <td>normal.</td>\n    </tr>\n    <tr>\n      <th>4898428</th>\n      <td>0</td>\n      <td>tcp</td>\n      <td>http</td>\n      <td>SF</td>\n      <td>218</td>\n      <td>3610</td>\n      <td>0</td>\n      <td>0</td>\n      <td>0</td>\n      <td>0</td>\n      <td>...</td>\n      <td>255</td>\n      <td>1.0</td>\n      <td>0.0</td>\n      <td>0.20</td>\n      <td>0.05</td>\n      <td>0.0</td>\n      <td>0.01</td>\n      <td>0.0</td>\n      <td>0.0</td>\n      <td>normal.</td>\n    </tr>\n    <tr>\n      <th>4898429</th>\n      <td>0</td>\n      <td>tcp</td>\n      <td>http</td>\n      <td>SF</td>\n      <td>219</td>\n      <td>1234</td>\n      <td>0</td>\n      <td>0</td>\n      <td>0</td>\n      <td>0</td>\n      <td>...</td>\n      <td>255</td>\n      <td>1.0</td>\n      <td>0.0</td>\n      <td>0.17</td>\n      <td>0.05</td>\n      <td>0.0</td>\n      <td>0.01</td>\n      <td>0.0</td>\n      <td>0.0</td>\n      <td>normal.</td>\n    </tr>\n    <tr>\n      <th>4898430</th>\n      <td>0</td>\n      <td>tcp</td>\n      <td>http</td>\n      <td>SF</td>\n      <td>219</td>\n      <td>1098</td>\n      <td>0</td>\n      <td>0</td>\n      <td>0</td>\n      <td>0</td>\n      <td>...</td>\n      <td>255</td>\n      <td>1.0</td>\n      <td>0.0</td>\n      <td>0.14</td>\n      <td>0.05</td>\n      <td>0.0</td>\n      <td>0.01</td>\n      <td>0.0</td>\n      <td>0.0</td>\n      <td>normal.</td>\n    </tr>\n  </tbody>\n</table>\n<p>4898431 rows × 42 columns</p>\n</div>"
     },
     "execution_count": 8,
     "metadata": {},
     "output_type": "execute_result"
    }
   ],
   "source": [
    "dataframe = pandas.read_csv(\n",
    "    # file to import from\n",
    "    DATASET_FILE,\n",
    "    # important to specify the CSV file contains no headers\n",
    "    # otherwise, the first record is interpreted as a header\n",
    "    header = None,\n",
    ")\n",
    "dataframe.columns = [*column_types.keys(), \"outcome\"]\n",
    "\n",
    "pandas.set_option('display.max_rows', 10)\n",
    "dataframe"
   ],
   "metadata": {
    "collapsed": false,
    "pycharm": {
     "name": "#%%\n"
    }
   }
  },
  {
   "cell_type": "markdown",
   "source": [
    "<hr style=\"border-top: 2px solid #444\">"
   ],
   "metadata": {
    "collapsed": false
   }
  },
  {
   "cell_type": "markdown",
   "source": [
    "## II. Inspecting Dataset"
   ],
   "metadata": {
    "collapsed": false
   }
  },
  {
   "cell_type": "markdown",
   "source": [
    "### Normal vs Intrusions"
   ],
   "metadata": {
    "collapsed": false
   }
  },
  {
   "cell_type": "code",
   "execution_count": 9,
   "outputs": [
    {
     "data": {
      "text/plain": "<Figure size 432x288 with 1 Axes>",
      "image/png": "[encoded data removed]"
     },
     "metadata": {},
     "output_type": "display_data"
    }
   ],
   "source": [
    "type_frequencies = dataframe['outcome'].value_counts()\n",
    "normal_frequency = type_frequencies['normal.']\n",
    "intrusion_frequency = sum([count for outcome_type, count in type_frequencies.iteritems() if outcome_type != 'normal.'])\n",
    "\n",
    "figure = pyplot.figure()\n",
    "pyplot.pie(\n",
    "    [normal_frequency, intrusion_frequency],\n",
    "    labels=['Normal', 'Intrusions'],\n",
    "    explode=[0, .25],\n",
    "    autopct='%1.1f%%',\n",
    "    shadow=True,\n",
    ")\n",
    "pyplot.show()"
   ],
   "metadata": {
    "collapsed": false,
    "pycharm": {
     "name": "#%%\n"
    }
   }
  },
  {
   "cell_type": "markdown",
   "source": [
    "### Intrusion Frequency\n",
    "Heavily skewed; a visualization does not properly capture the frequency (barring a logarithmic graph)"
   ],
   "metadata": {
    "collapsed": false,
    "pycharm": {
     "name": "#%% md\n"
    }
   }
  },
  {
   "cell_type": "code",
   "execution_count": 10,
   "outputs": [
    {
     "data": {
      "text/plain": "                 frequency\nsmurf              2807886\nneptune            1072017\nsatan                15892\nipsweep              12481\nportsweep            10413\nnmap                  2316\nback                  2203\nwarezclient           1020\nteardrop               979\npod                    264\nguess_passwd            53\nbuffer_overflow         30\nland                    21\nwarezmaster             20\nimap                    12\nrootkit                 10\nloadmodule               9\nftp_write                8\nmultihop                 7\nphf                      4\nperl                     3\nspy                      2",
      "text/html": "<div>\n<style scoped>\n    .dataframe tbody tr th:only-of-type {\n        vertical-align: middle;\n    }\n\n    .dataframe tbody tr th {\n        vertical-align: top;\n    }\n\n    .dataframe thead th {\n        text-align: right;\n    }\n</style>\n<table border=\"1\" class=\"dataframe\">\n  <thead>\n    <tr style=\"text-align: right;\">\n      <th></th>\n      <th>frequency</th>\n    </tr>\n  </thead>\n  <tbody>\n    <tr>\n      <th>smurf</th>\n      <td>2807886</td>\n    </tr>\n    <tr>\n      <th>neptune</th>\n      <td>1072017</td>\n    </tr>\n    <tr>\n      <th>satan</th>\n      <td>15892</td>\n    </tr>\n    <tr>\n      <th>ipsweep</th>\n      <td>12481</td>\n    </tr>\n    <tr>\n      <th>portsweep</th>\n      <td>10413</td>\n    </tr>\n    <tr>\n      <th>nmap</th>\n      <td>2316</td>\n    </tr>\n    <tr>\n      <th>back</th>\n      <td>2203</td>\n    </tr>\n    <tr>\n      <th>warezclient</th>\n      <td>1020</td>\n    </tr>\n    <tr>\n      <th>teardrop</th>\n      <td>979</td>\n    </tr>\n    <tr>\n      <th>pod</th>\n      <td>264</td>\n    </tr>\n    <tr>\n      <th>guess_passwd</th>\n      <td>53</td>\n    </tr>\n    <tr>\n      <th>buffer_overflow</th>\n      <td>30</td>\n    </tr>\n    <tr>\n      <th>land</th>\n      <td>21</td>\n    </tr>\n    <tr>\n      <th>warezmaster</th>\n      <td>20</td>\n    </tr>\n    <tr>\n      <th>imap</th>\n      <td>12</td>\n    </tr>\n    <tr>\n      <th>rootkit</th>\n      <td>10</td>\n    </tr>\n    <tr>\n      <th>loadmodule</th>\n      <td>9</td>\n    </tr>\n    <tr>\n      <th>ftp_write</th>\n      <td>8</td>\n    </tr>\n    <tr>\n      <th>multihop</th>\n      <td>7</td>\n    </tr>\n    <tr>\n      <th>phf</th>\n      <td>4</td>\n    </tr>\n    <tr>\n      <th>perl</th>\n      <td>3</td>\n    </tr>\n    <tr>\n      <th>spy</th>\n      <td>2</td>\n    </tr>\n  </tbody>\n</table>\n</div>"
     },
     "execution_count": 10,
     "metadata": {},
     "output_type": "execute_result"
    }
   ],
   "source": [
    "intrusion_frequencies=type_frequencies.drop(labels=[\"normal.\"])\n",
    "\n",
    "pandas.set_option('display.max_rows', None)\n",
    "pandas.DataFrame(\n",
    "    intrusion_frequencies.values,\n",
    "    columns=['frequency'],\n",
    "    index=[intrusion_name[:-1] for intrusion_name in intrusion_frequencies.index]\n",
    ").sort_values(by=\"frequency\", ascending=False)"
   ],
   "metadata": {
    "collapsed": false,
    "pycharm": {
     "name": "#%%\n"
    }
   }
  },
  {
   "cell_type": "markdown",
   "source": [
    "<hr style=\"border-top: 2px solid #444\">"
   ],
   "metadata": {
    "collapsed": false
   }
  },
  {
   "cell_type": "markdown",
   "source": [
    "## III. Data Preprocessing"
   ],
   "metadata": {
    "collapsed": false
   }
  },
  {
   "cell_type": "markdown",
   "source": [
    "### One-hot-encode Discrete Columns"
   ],
   "metadata": {
    "collapsed": false
   }
  },
  {
   "cell_type": "markdown",
   "source": [
    "### Normalize Continuous Columns"
   ],
   "metadata": {
    "collapsed": false,
    "pycharm": {
     "name": "#%% md\n"
    }
   }
  },
  {
   "cell_type": "markdown",
   "source": [
    "### Binary Intrusion Classification"
   ],
   "metadata": {
    "collapsed": false
   }
  },
  {
   "cell_type": "markdown",
   "source": [
    "#### Input Features"
   ],
   "metadata": {
    "collapsed": false,
    "pycharm": {
     "name": "#%% md\n"
    }
   }
  },
  {
   "cell_type": "markdown",
   "source": [
    "#### Output Features"
   ],
   "metadata": {
    "collapsed": false,
    "pycharm": {
     "name": "#%% md\n"
    }
   }
  },
  {
   "cell_type": "markdown",
   "source": [
    "### Intrusion Classification"
   ],
   "metadata": {
    "collapsed": false,
    "pycharm": {
     "name": "#%% md\n"
    }
   }
  },
  {
   "cell_type": "markdown",
   "source": [
    "#### Input Features"
   ],
   "metadata": {
    "collapsed": false
   }
  },
  {
   "cell_type": "markdown",
   "source": [
    "#### Output Features"
   ],
   "metadata": {
    "collapsed": false
   }
  },
  {
   "cell_type": "markdown",
   "source": [
    "<hr style=\"border-top: 2px solid #444\">"
   ],
   "metadata": {
    "collapsed": false
   }
  },
  {
   "cell_type": "markdown",
   "source": [
    "## IV. Intrusion Detection - Binary Classification Model"
   ],
   "metadata": {
    "collapsed": false
   }
  },
  {
   "cell_type": "markdown",
   "source": [
    "### Create Model"
   ],
   "metadata": {
    "collapsed": false
   }
  },
  {
   "cell_type": "markdown",
   "source": [
    "### Train Model"
   ],
   "metadata": {
    "collapsed": false
   }
  },
  {
   "cell_type": "markdown",
   "source": [
    "### Model Accuracy"
   ],
   "metadata": {
    "collapsed": false
   }
  },
  {
   "cell_type": "markdown",
   "source": [
    "#### Model Predictions"
   ],
   "metadata": {
    "collapsed": false
   }
  },
  {
   "cell_type": "markdown",
   "source": [
    "#### Error Scoring"
   ],
   "metadata": {
    "collapsed": false
   }
  },
  {
   "cell_type": "markdown",
   "source": [
    "### Feature Importance"
   ],
   "metadata": {
    "collapsed": false,
    "pycharm": {
     "name": "#%% md\n"
    }
   }
  },
  {
   "cell_type": "markdown",
   "source": [
    "<hr style=\"border-top: 2px solid #444\">"
   ],
   "metadata": {
    "collapsed": false
   }
  },
  {
   "cell_type": "markdown",
   "source": [
    "## V. Intrusion Type - Classification Model"
   ],
   "metadata": {
    "collapsed": false
   }
  },
  {
   "cell_type": "markdown",
   "source": [
    "### Create Model"
   ],
   "metadata": {
    "collapsed": false
   }
  },
  {
   "cell_type": "markdown",
   "source": [
    "### Train Model"
   ],
   "metadata": {
    "collapsed": false
   }
  },
  {
   "cell_type": "markdown",
   "source": [
    "### Model Accuracy"
   ],
   "metadata": {
    "collapsed": false
   }
  },
  {
   "cell_type": "markdown",
   "source": [
    "#### Model Predictions"
   ],
   "metadata": {
    "collapsed": false
   }
  },
  {
   "cell_type": "markdown",
   "source": [
    "#### Error Scoring"
   ],
   "metadata": {
    "collapsed": false
   }
  },
  {
   "cell_type": "markdown",
   "source": [
    "### Feature Importance"
   ],
   "metadata": {
    "collapsed": false
   }
  },
  {
   "cell_type": "markdown",
   "source": [
    "<hr style=\"border-top: 2px solid #444\">"
   ],
   "metadata": {
    "collapsed": false
   }
  },
  {
   "cell_type": "markdown",
   "source": [
    "## VI. Conclusion"
   ],
   "metadata": {
    "collapsed": false
   }
  }
 ],
 "metadata": {
  "kernelspec": {
   "display_name": "Python 3",
   "language": "python",
   "name": "python3"
  },
  "language_info": {
   "codemirror_mode": {
    "name": "ipython",
    "version": 2
   },
   "file_extension": ".py",
   "mimetype": "text/x-python",
   "name": "python",
   "nbconvert_exporter": "python",
   "pygments_lexer": "ipython2",
   "version": "2.7.6"
  }
 },
 "nbformat": 4,
 "nbformat_minor": 0
}