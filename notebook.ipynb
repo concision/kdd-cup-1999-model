{
 "cells": [
  {
   "cell_type": "markdown",
   "source": [
    "<h1 align=\"center\">KDD Cup 1999 Model</h1>"
   ],
   "metadata": {
    "collapsed": false,
    "pycharm": {
     "name": "#%% md\n"
    }
   }
  },
  {
   "cell_type": "markdown",
   "source": [
    "<hr style=\"border-top: 2px solid #444\">"
   ],
   "metadata": {
    "collapsed": false,
    "pycharm": {
     "name": "#%% md\n"
    }
   }
  },
  {
   "cell_type": "markdown",
   "source": [
    "## Development Environment\n",
    "In this section, the development environment for this Jupyter notebook project is prepared by collecting Python dependencies, importing libraries, and configuring the runtime environment."
   ],
   "metadata": {
    "collapsed": false
   }
  },
  {
   "cell_type": "markdown",
   "source": [
    "### Python Dependencies\n",
    "External Python dependencies are collected through the [Pipenv](https://pypi.org/project/pipenv/) package manager since it supports dependency lock-files. In the following script, `pipenv` and its transitive dependencies are installed from `pipenv-requirements.txt` and then the notebook's dependencies are installed from `Pipfile` and `Pipfile.lock`."
   ],
   "metadata": {
    "collapsed": false
   }
  },
  {
   "cell_type": "code",
   "execution_count": 1,
   "metadata": {
    "collapsed": true
   },
   "outputs": [],
   "source": [
    "!pip install -r pipenv-requirements.txt\n",
    "!pipenv install"
   ]
  },
  {
   "cell_type": "markdown",
   "source": [
    "### Library Imports\n",
    "All internal standard libraries and external libraries are imported here, with some stated dependency versions."
   ],
   "metadata": {
    "collapsed": false,
    "pycharm": {
     "name": "#%% md\n"
    }
   }
  },
  {
   "cell_type": "code",
   "execution_count": 2,
   "outputs": [],
   "source": [
    "import gzip\n",
    "import math\n",
    "import os\n",
    "import re\n",
    "import sys\n",
    "from enum import Enum\n",
    "from io import StringIO\n",
    "from time import time\n",
    "\n",
    "import matplotlib.pyplot as pyplot\n",
    "import numpy\n",
    "import pandas\n",
    "import requests\n",
    "import tensorflow\n",
    "from IPython.display import display, HTML\n",
    "from sklearn.metrics import confusion_matrix, classification_report\n",
    "from sklearn.model_selection import train_test_split\n",
    "from tensorflow.keras.callbacks import EarlyStopping, ModelCheckpoint\n",
    "from tensorflow.keras.layers import Dense\n",
    "from tensorflow.keras.models import Sequential"
   ],
   "metadata": {
    "collapsed": false,
    "pycharm": {
     "name": "#%%\n"
    }
   }
  },
  {
   "cell_type": "markdown",
   "source": [
    "### Configure PRNG Seed\n",
    "Numpy, Tensorflow, and SciKit rely on [pseudorandom number generators](https://en.wikipedia.org/wiki/Pseudorandom_number_generator) as their internal source for randomness. To guarantee deterministic behaviour and reproducible results for this notebook's execution, an arbitrary seed is configured."
   ],
   "metadata": {
    "collapsed": false,
    "pycharm": {
     "name": "#%% md\n"
    }
   }
  },
  {
   "cell_type": "code",
   "execution_count": 3,
   "outputs": [],
   "source": [
    "PRNG_SEED = 42\n",
    "\n",
    "numpy.random.seed(PRNG_SEED)\n",
    "tensorflow.random.set_seed(PRNG_SEED)"
   ],
   "metadata": {
    "collapsed": false,
    "pycharm": {
     "name": "#%%\n"
    }
   }
  },
  {
   "cell_type": "markdown",
   "source": [
    "<hr style=\"border-top: 2px solid #444\">"
   ],
   "metadata": {
    "collapsed": false
   }
  },
  {
   "cell_type": "markdown",
   "source": [
    "## I. Data Importation\n",
    "\n",
    "Source: http://kdd.ics.uci.edu/databases/kddcup99/kddcup99.html"
   ],
   "metadata": {
    "collapsed": false
   }
  },
  {
   "cell_type": "code",
   "execution_count": 4,
   "outputs": [],
   "source": [
    "# create 'data' cache directory\n",
    "if not os.path.exists('data'):\n",
    "    os.path.makedirs('data')"
   ],
   "metadata": {
    "collapsed": false,
    "pycharm": {
     "name": "#%%\n"
    }
   }
  },
  {
   "cell_type": "markdown",
   "source": [
    "### Fetch Column Types: Categorical vs Continuous"
   ],
   "metadata": {
    "collapsed": false
   }
  },
  {
   "cell_type": "code",
   "execution_count": 5,
   "outputs": [],
   "source": [
    "DATASET_COLUMNS_FILE = os.path.join(\"data\", \"kddcup1999_columns.txt\")\n",
    "\n",
    "if not os.path.exists(DATASET_COLUMNS_FILE):\n",
    "    with requests.get(\"http://kdd.ics.uci.edu/databases/kddcup99/kddcup.names\") as request:\n",
    "        with open(DATASET_COLUMNS_FILE, 'wb') as file:\n",
    "            file.write(request.content)"
   ],
   "metadata": {
    "collapsed": false,
    "pycharm": {
     "name": "#%%\n"
    }
   }
  },
  {
   "cell_type": "markdown",
   "source": [
    "### Fetch Labeled CSV Dataset"
   ],
   "metadata": {
    "collapsed": false
   }
  },
  {
   "cell_type": "code",
   "execution_count": 6,
   "outputs": [],
   "source": [
    "DATASET_URL = \"http://kdd.ics.uci.edu/databases/kddcup99/kddcup.data.gz\"\n",
    "DATASET_FILE = os.path.join(\"data\", \"kddcup1999.csv\")\n",
    "\n",
    "# download dataset if not already cached\n",
    "if not os.path.exists(DATASET_FILE):\n",
    "    with requests.get(DATASET_URL) as response:\n",
    "        if response.status_code != 200:\n",
    "            raise RuntimeError(f\"failed to download dataset: {DATASET_URL}\")\n",
    "        # decompress content\n",
    "        with open(DATASET_FILE, 'wb') as file:\n",
    "            file.write(gzip.decompress(response.content))"
   ],
   "metadata": {
    "collapsed": false,
    "pycharm": {
     "name": "#%%\n"
    }
   }
  },
  {
   "cell_type": "markdown",
   "source": [
    "### Load Column Types"
   ],
   "metadata": {
    "collapsed": false,
    "pycharm": {
     "name": "#%% md\n"
    }
   }
  },
  {
   "cell_type": "code",
   "execution_count": 7,
   "outputs": [],
   "source": [
    "ColumnType = Enum('ColumnType', 'SYMBOLIC CONTINUOUS')\n",
    "column_types = {}\n",
    "\n",
    "with open(DATASET_COLUMNS_FILE, 'r') as file:\n",
    "    column_labels: str = file.read()\n",
    "\n",
    "column_regex: re.Pattern = re.compile(r\"^(?P<column_name>\\w+): (?P<data_type>\\w+)\\.$\")\n",
    "for column_type in column_labels.splitlines()[1:]:\n",
    "    match = column_regex.match(column_type)\n",
    "    column_types[match.group(\"column_name\")] = ColumnType[match.group(\"data_type\").upper()]"
   ],
   "metadata": {
    "collapsed": false,
    "pycharm": {
     "name": "#%%\n"
    }
   }
  },
  {
   "cell_type": "markdown",
   "source": [
    "### Load CSV Dataset"
   ],
   "metadata": {
    "collapsed": false
   }
  },
  {
   "cell_type": "code",
   "execution_count": 8,
   "outputs": [
    {
     "data": {
      "text/plain": "         duration protocol_type service flag  src_bytes  dst_bytes  land  \\\n0               0           tcp    http   SF        215      45076     0   \n1               0           tcp    http   SF        162       4528     0   \n2               0           tcp    http   SF        236       1228     0   \n3               0           tcp    http   SF        233       2032     0   \n4               0           tcp    http   SF        239        486     0   \n...           ...           ...     ...  ...        ...        ...   ...   \n4898426         0           tcp    http   SF        212       2288     0   \n4898427         0           tcp    http   SF        219        236     0   \n4898428         0           tcp    http   SF        218       3610     0   \n4898429         0           tcp    http   SF        219       1234     0   \n4898430         0           tcp    http   SF        219       1098     0   \n\n         wrong_fragment  urgent  hot  ...  dst_host_srv_count  \\\n0                     0       0    0  ...                   0   \n1                     0       0    0  ...                   1   \n2                     0       0    0  ...                   2   \n3                     0       0    0  ...                   3   \n4                     0       0    0  ...                   4   \n...                 ...     ...  ...  ...                 ...   \n4898426               0       0    0  ...                 255   \n4898427               0       0    0  ...                 255   \n4898428               0       0    0  ...                 255   \n4898429               0       0    0  ...                 255   \n4898430               0       0    0  ...                 255   \n\n         dst_host_same_srv_rate  dst_host_diff_srv_rate  \\\n0                           0.0                     0.0   \n1                           1.0                     0.0   \n2                           1.0                     0.0   \n3                           1.0                     0.0   \n4                           1.0                     0.0   \n...                         ...                     ...   \n4898426                     1.0                     0.0   \n4898427                     1.0                     0.0   \n4898428                     1.0                     0.0   \n4898429                     1.0                     0.0   \n4898430                     1.0                     0.0   \n\n         dst_host_same_src_port_rate  dst_host_srv_diff_host_rate  \\\n0                               0.00                         0.00   \n1                               1.00                         0.00   \n2                               0.50                         0.00   \n3                               0.33                         0.00   \n4                               0.25                         0.00   \n...                              ...                          ...   \n4898426                         0.33                         0.05   \n4898427                         0.25                         0.05   \n4898428                         0.20                         0.05   \n4898429                         0.17                         0.05   \n4898430                         0.14                         0.05   \n\n         dst_host_serror_rate  dst_host_srv_serror_rate  dst_host_rerror_rate  \\\n0                         0.0                      0.00                   0.0   \n1                         0.0                      0.00                   0.0   \n2                         0.0                      0.00                   0.0   \n3                         0.0                      0.00                   0.0   \n4                         0.0                      0.00                   0.0   \n...                       ...                       ...                   ...   \n4898426                   0.0                      0.01                   0.0   \n4898427                   0.0                      0.01                   0.0   \n4898428                   0.0                      0.01                   0.0   \n4898429                   0.0                      0.01                   0.0   \n4898430                   0.0                      0.01                   0.0   \n\n         dst_host_srv_rerror_rate  outcome  \n0                             0.0  normal.  \n1                             0.0  normal.  \n2                             0.0  normal.  \n3                             0.0  normal.  \n4                             0.0  normal.  \n...                           ...      ...  \n4898426                       0.0  normal.  \n4898427                       0.0  normal.  \n4898428                       0.0  normal.  \n4898429                       0.0  normal.  \n4898430                       0.0  normal.  \n\n[4898431 rows x 42 columns]",
      "text/html": "<div>\n<style scoped>\n    .dataframe tbody tr th:only-of-type {\n        vertical-align: middle;\n    }\n\n    .dataframe tbody tr th {\n        vertical-align: top;\n    }\n\n    .dataframe thead th {\n        text-align: right;\n    }\n</style>\n<table border=\"1\" class=\"dataframe\">\n  <thead>\n    <tr style=\"text-align: right;\">\n      <th></th>\n      <th>duration</th>\n      <th>protocol_type</th>\n      <th>service</th>\n      <th>flag</th>\n      <th>src_bytes</th>\n      <th>dst_bytes</th>\n      <th>land</th>\n      <th>wrong_fragment</th>\n      <th>urgent</th>\n      <th>hot</th>\n      <th>...</th>\n      <th>dst_host_srv_count</th>\n      <th>dst_host_same_srv_rate</th>\n      <th>dst_host_diff_srv_rate</th>\n      <th>dst_host_same_src_port_rate</th>\n      <th>dst_host_srv_diff_host_rate</th>\n      <th>dst_host_serror_rate</th>\n      <th>dst_host_srv_serror_rate</th>\n      <th>dst_host_rerror_rate</th>\n      <th>dst_host_srv_rerror_rate</th>\n      <th>outcome</th>\n    </tr>\n  </thead>\n  <tbody>\n    <tr>\n      <th>0</th>\n      <td>0</td>\n      <td>tcp</td>\n      <td>http</td>\n      <td>SF</td>\n      <td>215</td>\n      <td>45076</td>\n      <td>0</td>\n      <td>0</td>\n      <td>0</td>\n      <td>0</td>\n      <td>...</td>\n      <td>0</td>\n      <td>0.0</td>\n      <td>0.0</td>\n      <td>0.00</td>\n      <td>0.00</td>\n      <td>0.0</td>\n      <td>0.00</td>\n      <td>0.0</td>\n      <td>0.0</td>\n      <td>normal.</td>\n    </tr>\n    <tr>\n      <th>1</th>\n      <td>0</td>\n      <td>tcp</td>\n      <td>http</td>\n      <td>SF</td>\n      <td>162</td>\n      <td>4528</td>\n      <td>0</td>\n      <td>0</td>\n      <td>0</td>\n      <td>0</td>\n      <td>...</td>\n      <td>1</td>\n      <td>1.0</td>\n      <td>0.0</td>\n      <td>1.00</td>\n      <td>0.00</td>\n      <td>0.0</td>\n      <td>0.00</td>\n      <td>0.0</td>\n      <td>0.0</td>\n      <td>normal.</td>\n    </tr>\n    <tr>\n      <th>2</th>\n      <td>0</td>\n      <td>tcp</td>\n      <td>http</td>\n      <td>SF</td>\n      <td>236</td>\n      <td>1228</td>\n      <td>0</td>\n      <td>0</td>\n      <td>0</td>\n      <td>0</td>\n      <td>...</td>\n      <td>2</td>\n      <td>1.0</td>\n      <td>0.0</td>\n      <td>0.50</td>\n      <td>0.00</td>\n      <td>0.0</td>\n      <td>0.00</td>\n      <td>0.0</td>\n      <td>0.0</td>\n      <td>normal.</td>\n    </tr>\n    <tr>\n      <th>3</th>\n      <td>0</td>\n      <td>tcp</td>\n      <td>http</td>\n      <td>SF</td>\n      <td>233</td>\n      <td>2032</td>\n      <td>0</td>\n      <td>0</td>\n      <td>0</td>\n      <td>0</td>\n      <td>...</td>\n      <td>3</td>\n      <td>1.0</td>\n      <td>0.0</td>\n      <td>0.33</td>\n      <td>0.00</td>\n      <td>0.0</td>\n      <td>0.00</td>\n      <td>0.0</td>\n      <td>0.0</td>\n      <td>normal.</td>\n    </tr>\n    <tr>\n      <th>4</th>\n      <td>0</td>\n      <td>tcp</td>\n      <td>http</td>\n      <td>SF</td>\n      <td>239</td>\n      <td>486</td>\n      <td>0</td>\n      <td>0</td>\n      <td>0</td>\n      <td>0</td>\n      <td>...</td>\n      <td>4</td>\n      <td>1.0</td>\n      <td>0.0</td>\n      <td>0.25</td>\n      <td>0.00</td>\n      <td>0.0</td>\n      <td>0.00</td>\n      <td>0.0</td>\n      <td>0.0</td>\n      <td>normal.</td>\n    </tr>\n    <tr>\n      <th>...</th>\n      <td>...</td>\n      <td>...</td>\n      <td>...</td>\n      <td>...</td>\n      <td>...</td>\n      <td>...</td>\n      <td>...</td>\n      <td>...</td>\n      <td>...</td>\n      <td>...</td>\n      <td>...</td>\n      <td>...</td>\n      <td>...</td>\n      <td>...</td>\n      <td>...</td>\n      <td>...</td>\n      <td>...</td>\n      <td>...</td>\n      <td>...</td>\n      <td>...</td>\n      <td>...</td>\n    </tr>\n    <tr>\n      <th>4898426</th>\n      <td>0</td>\n      <td>tcp</td>\n      <td>http</td>\n      <td>SF</td>\n      <td>212</td>\n      <td>2288</td>\n      <td>0</td>\n      <td>0</td>\n      <td>0</td>\n      <td>0</td>\n      <td>...</td>\n      <td>255</td>\n      <td>1.0</td>\n      <td>0.0</td>\n      <td>0.33</td>\n      <td>0.05</td>\n      <td>0.0</td>\n      <td>0.01</td>\n      <td>0.0</td>\n      <td>0.0</td>\n      <td>normal.</td>\n    </tr>\n    <tr>\n      <th>4898427</th>\n      <td>0</td>\n      <td>tcp</td>\n      <td>http</td>\n      <td>SF</td>\n      <td>219</td>\n      <td>236</td>\n      <td>0</td>\n      <td>0</td>\n      <td>0</td>\n      <td>0</td>\n      <td>...</td>\n      <td>255</td>\n      <td>1.0</td>\n      <td>0.0</td>\n      <td>0.25</td>\n      <td>0.05</td>\n      <td>0.0</td>\n      <td>0.01</td>\n      <td>0.0</td>\n      <td>0.0</td>\n      <td>normal.</td>\n    </tr>\n    <tr>\n      <th>4898428</th>\n      <td>0</td>\n      <td>tcp</td>\n      <td>http</td>\n      <td>SF</td>\n      <td>218</td>\n      <td>3610</td>\n      <td>0</td>\n      <td>0</td>\n      <td>0</td>\n      <td>0</td>\n      <td>...</td>\n      <td>255</td>\n      <td>1.0</td>\n      <td>0.0</td>\n      <td>0.20</td>\n      <td>0.05</td>\n      <td>0.0</td>\n      <td>0.01</td>\n      <td>0.0</td>\n      <td>0.0</td>\n      <td>normal.</td>\n    </tr>\n    <tr>\n      <th>4898429</th>\n      <td>0</td>\n      <td>tcp</td>\n      <td>http</td>\n      <td>SF</td>\n      <td>219</td>\n      <td>1234</td>\n      <td>0</td>\n      <td>0</td>\n      <td>0</td>\n      <td>0</td>\n      <td>...</td>\n      <td>255</td>\n      <td>1.0</td>\n      <td>0.0</td>\n      <td>0.17</td>\n      <td>0.05</td>\n      <td>0.0</td>\n      <td>0.01</td>\n      <td>0.0</td>\n      <td>0.0</td>\n      <td>normal.</td>\n    </tr>\n    <tr>\n      <th>4898430</th>\n      <td>0</td>\n      <td>tcp</td>\n      <td>http</td>\n      <td>SF</td>\n      <td>219</td>\n      <td>1098</td>\n      <td>0</td>\n      <td>0</td>\n      <td>0</td>\n      <td>0</td>\n      <td>...</td>\n      <td>255</td>\n      <td>1.0</td>\n      <td>0.0</td>\n      <td>0.14</td>\n      <td>0.05</td>\n      <td>0.0</td>\n      <td>0.01</td>\n      <td>0.0</td>\n      <td>0.0</td>\n      <td>normal.</td>\n    </tr>\n  </tbody>\n</table>\n<p>4898431 rows × 42 columns</p>\n</div>"
     },
     "execution_count": 8,
     "metadata": {},
     "output_type": "execute_result"
    }
   ],
   "source": [
    "dataframe = pandas.read_csv(\n",
    "    # file to import from\n",
    "    DATASET_FILE,\n",
    "    # important to specify the CSV file contains no headers\n",
    "    # otherwise, the first record is interpreted as a header\n",
    "    header = None,\n",
    ")\n",
    "dataframe.columns = [*column_types.keys(), \"outcome\"]\n",
    "\n",
    "pandas.set_option('display.max_rows', 10)\n",
    "dataframe"
   ],
   "metadata": {
    "collapsed": false,
    "pycharm": {
     "name": "#%%\n"
    }
   }
  },
  {
   "cell_type": "markdown",
   "source": [
    "<hr style=\"border-top: 2px solid #444\">"
   ],
   "metadata": {
    "collapsed": false
   }
  },
  {
   "cell_type": "markdown",
   "source": [
    "## II. Inspecting Dataset"
   ],
   "metadata": {
    "collapsed": false
   }
  },
  {
   "cell_type": "markdown",
   "source": [
    "### Normal vs Intrusions"
   ],
   "metadata": {
    "collapsed": false
   }
  },
  {
   "cell_type": "code",
   "execution_count": 9,
   "outputs": [
    {
     "data": {
      "text/plain": "<Figure size 432x288 with 1 Axes>",
      "image/png": "[encoded data removed]"
     },
     "metadata": {},
     "output_type": "display_data"
    }
   ],
   "source": [
    "type_frequencies = dataframe['outcome'].value_counts()\n",
    "normal_frequency = type_frequencies['normal.']\n",
    "intrusion_frequency = sum([count for outcome_type, count in type_frequencies.iteritems() if outcome_type != 'normal.'])\n",
    "\n",
    "figure = pyplot.figure()\n",
    "pyplot.pie(\n",
    "    [normal_frequency, intrusion_frequency],\n",
    "    labels=[\"Normal\", \"Intrusions\"],\n",
    "    explode=[0, .25],\n",
    "    autopct='%1.1f%%',\n",
    "    shadow=True,\n",
    ")\n",
    "pyplot.show()"
   ],
   "metadata": {
    "collapsed": false,
    "pycharm": {
     "name": "#%%\n"
    }
   }
  },
  {
   "cell_type": "markdown",
   "source": [
    "### Intrusion Frequency\n",
    "Heavily skewed; a visualization does not properly capture the frequency (barring a logarithmic graph)"
   ],
   "metadata": {
    "collapsed": false,
    "pycharm": {
     "name": "#%% md\n"
    }
   }
  },
  {
   "cell_type": "code",
   "execution_count": 10,
   "outputs": [
    {
     "data": {
      "text/plain": "                 frequency\nsmurf              2807886\nneptune            1072017\nsatan                15892\nipsweep              12481\nportsweep            10413\nnmap                  2316\nback                  2203\nwarezclient           1020\nteardrop               979\npod                    264\nguess_passwd            53\nbuffer_overflow         30\nland                    21\nwarezmaster             20\nimap                    12\nrootkit                 10\nloadmodule               9\nftp_write                8\nmultihop                 7\nphf                      4\nperl                     3\nspy                      2",
      "text/html": "<div>\n<style scoped>\n    .dataframe tbody tr th:only-of-type {\n        vertical-align: middle;\n    }\n\n    .dataframe tbody tr th {\n        vertical-align: top;\n    }\n\n    .dataframe thead th {\n        text-align: right;\n    }\n</style>\n<table border=\"1\" class=\"dataframe\">\n  <thead>\n    <tr style=\"text-align: right;\">\n      <th></th>\n      <th>frequency</th>\n    </tr>\n  </thead>\n  <tbody>\n    <tr>\n      <th>smurf</th>\n      <td>2807886</td>\n    </tr>\n    <tr>\n      <th>neptune</th>\n      <td>1072017</td>\n    </tr>\n    <tr>\n      <th>satan</th>\n      <td>15892</td>\n    </tr>\n    <tr>\n      <th>ipsweep</th>\n      <td>12481</td>\n    </tr>\n    <tr>\n      <th>portsweep</th>\n      <td>10413</td>\n    </tr>\n    <tr>\n      <th>nmap</th>\n      <td>2316</td>\n    </tr>\n    <tr>\n      <th>back</th>\n      <td>2203</td>\n    </tr>\n    <tr>\n      <th>warezclient</th>\n      <td>1020</td>\n    </tr>\n    <tr>\n      <th>teardrop</th>\n      <td>979</td>\n    </tr>\n    <tr>\n      <th>pod</th>\n      <td>264</td>\n    </tr>\n    <tr>\n      <th>guess_passwd</th>\n      <td>53</td>\n    </tr>\n    <tr>\n      <th>buffer_overflow</th>\n      <td>30</td>\n    </tr>\n    <tr>\n      <th>land</th>\n      <td>21</td>\n    </tr>\n    <tr>\n      <th>warezmaster</th>\n      <td>20</td>\n    </tr>\n    <tr>\n      <th>imap</th>\n      <td>12</td>\n    </tr>\n    <tr>\n      <th>rootkit</th>\n      <td>10</td>\n    </tr>\n    <tr>\n      <th>loadmodule</th>\n      <td>9</td>\n    </tr>\n    <tr>\n      <th>ftp_write</th>\n      <td>8</td>\n    </tr>\n    <tr>\n      <th>multihop</th>\n      <td>7</td>\n    </tr>\n    <tr>\n      <th>phf</th>\n      <td>4</td>\n    </tr>\n    <tr>\n      <th>perl</th>\n      <td>3</td>\n    </tr>\n    <tr>\n      <th>spy</th>\n      <td>2</td>\n    </tr>\n  </tbody>\n</table>\n</div>"
     },
     "metadata": {},
     "output_type": "display_data"
    }
   ],
   "source": [
    "intrusion_frequencies=type_frequencies.drop(labels=[\"normal.\"])\n",
    "\n",
    "pandas.set_option('display.max_rows', None)\n",
    "display(\n",
    "    pandas.DataFrame(\n",
    "        intrusion_frequencies.values,\n",
    "        columns=['frequency'],\n",
    "        index=[intrusion_name[:-1] for intrusion_name in intrusion_frequencies.index]\n",
    "    ).sort_values(by=\"frequency\", ascending=False)\n",
    ")\n",
    "pandas.set_option('display.max_rows', 10)"
   ],
   "metadata": {
    "collapsed": false,
    "pycharm": {
     "name": "#%%\n"
    }
   }
  },
  {
   "cell_type": "markdown",
   "source": [
    "<hr style=\"border-top: 2px solid #444\">"
   ],
   "metadata": {
    "collapsed": false
   }
  },
  {
   "cell_type": "markdown",
   "source": [
    "## III. Data Preprocessing"
   ],
   "metadata": {
    "collapsed": false
   }
  },
  {
   "cell_type": "markdown",
   "source": [
    "### Drop Duplicate Records"
   ],
   "metadata": {
    "collapsed": false,
    "pycharm": {
     "name": "#%% md\n"
    }
   }
  },
  {
   "cell_type": "code",
   "execution_count": 11,
   "outputs": [
    {
     "name": "stdout",
     "output_type": "stream",
     "text": [
      "Dropped 3,823,439/4,898,431 (-78.05%) duplicate records\n"
     ]
    }
   ],
   "source": [
    "unique_dataframe = dataframe.drop_duplicates()\n",
    "\n",
    "print(f\"Dropped {len(dataframe) - len(unique_dataframe):,}/{len(dataframe):,} (-{100*(len(dataframe) - len(unique_dataframe))/len(dataframe):.2f}%) duplicate records\")"
   ],
   "metadata": {
    "collapsed": false,
    "pycharm": {
     "name": "#%%\n"
    }
   }
  },
  {
   "cell_type": "markdown",
   "source": [
    "### One-hot-encode Categorical (\"Symbolic\") Columns"
   ],
   "metadata": {
    "collapsed": false
   }
  },
  {
   "cell_type": "code",
   "source": [
    "encoded_dataframe = pandas.get_dummies(\n",
    "    unique_dataframe,\n",
    "    # all categorical columns\n",
    "    columns=[column_name for column_name, column_type in column_types.items() if column_type == ColumnType.SYMBOLIC],\n",
    "    # drop original column\n",
    "    drop_first=True,\n",
    ")"
   ],
   "metadata": {
    "collapsed": false,
    "pycharm": {
     "name": "#%%\n"
    }
   },
   "execution_count": 12,
   "outputs": []
  },
  {
   "cell_type": "markdown",
   "source": [
    "### Dataset Partitioning: Training, Testing, and Validation"
   ],
   "metadata": {
    "collapsed": false,
    "pycharm": {
     "name": "#%% md\n"
    }
   }
  },
  {
   "cell_type": "code",
   "execution_count": 13,
   "outputs": [],
   "source": [
    "TRAINING_PROPORTION = .25\n",
    "TESTING_PROPORTION = .50\n",
    "VALIDATION_PROPORTION = .05\n",
    "\n",
    "assert TRAINING_PROPORTION + TESTING_PROPORTION + VALIDATION_PROPORTION <= 1.0\n",
    "\n",
    "partitions = {'train': pandas.DataFrame()}\n",
    "\n",
    "remaining_dataframe = pandas.DataFrame()\n",
    "grouped_outcomes = encoded_dataframe.groupby('outcome')\n",
    "maximum_per_class = math.ceil((TRAINING_PROPORTION * len(grouped_outcomes.groups['normal.'])) / (len(grouped_outcomes.groups.keys()) - 1))\n",
    "for key in grouped_outcomes.groups.keys():\n",
    "    group = grouped_outcomes.get_group(key)\n",
    "\n",
    "    training, remaining = train_test_split(\n",
    "        group,\n",
    "        shuffle=True,\n",
    "        train_size=min(math.ceil(TRAINING_PROPORTION * len(group.index)), maximum_per_class) if key != \"normal.\" else TRAINING_PROPORTION,\n",
    "    )\n",
    "    if key != \"normal.\":\n",
    "        training = training.sample(n=maximum_per_class, replace=True, random_state=PRNG_SEED)\n",
    "    partitions['train'] = partitions['train'].append(training)\n",
    "    remaining_dataframe = remaining_dataframe.append(remaining)\n",
    "\n",
    "partitions['test'], partitions['validate'] = train_test_split(\n",
    "    remaining_dataframe,\n",
    "    shuffle=True,\n",
    "    train_size=TESTING_PROPORTION / (1 - TRAINING_PROPORTION),\n",
    "    test_size=VALIDATION_PROPORTION / (1 - TRAINING_PROPORTION),\n",
    ")"
   ],
   "metadata": {
    "collapsed": false,
    "pycharm": {
     "name": "#%%\n"
    }
   }
  },
  {
   "cell_type": "markdown",
   "source": [
    "### Normalize Continuous Columns"
   ],
   "metadata": {
    "collapsed": false
   }
  },
  {
   "cell_type": "code",
   "execution_count": 14,
   "outputs": [],
   "source": [
    "pandas.set_option(\"mode.chained_assignment\", None)\n",
    "\n",
    "for column_name, column_type in column_types.items():\n",
    "    if column_type == ColumnType.CONTINUOUS:\n",
    "        mean = partitions['train'][column_name].mean()\n",
    "        std = partitions['train'][column_name].std()\n",
    "        if std == 0:\n",
    "            std = 1\n",
    "\n",
    "        for partition_name, dataframe in partitions.items():\n",
    "            dataframe.loc[:,column_name] = (dataframe[column_name] - mean) / std"
   ],
   "metadata": {
    "collapsed": false,
    "pycharm": {
     "name": "#%%\n"
    }
   }
  },
  {
   "cell_type": "markdown",
   "source": [
    "### Input Features"
   ],
   "metadata": {
    "collapsed": false
   }
  },
  {
   "cell_type": "code",
   "execution_count": 15,
   "outputs": [],
   "source": [
    "tf_input = {\n",
    "    partition_name: dataframe.drop(\"outcome\", axis=\"columns\").reset_index(drop=True)\n",
    "    for partition_name, dataframe in partitions.items()\n",
    "}"
   ],
   "metadata": {
    "collapsed": false,
    "pycharm": {
     "name": "#%%\n"
    }
   }
  },
  {
   "cell_type": "markdown",
   "source": [
    "### Output Features"
   ],
   "metadata": {
    "collapsed": false
   }
  },
  {
   "cell_type": "code",
   "execution_count": 16,
   "outputs": [],
   "source": [
    "tf_output = {\n",
    "    partition_name: pandas.DataFrame(\n",
    "        # one-hot-encode normal vs intrusions for binary classification\n",
    "        [\n",
    "            [1, 0] if outcome == 'normal.' else [0, 1]\n",
    "            for outcome in dataframe[['outcome']].to_numpy()\n",
    "        ],\n",
    "        # binary classification of connection\n",
    "        columns = ['normal', 'intrusion'],\n",
    "    )\n",
    "    for partition_name, dataframe in partitions.items()\n",
    "}"
   ],
   "metadata": {
    "collapsed": false,
    "pycharm": {
     "name": "#%%\n"
    }
   }
  },
  {
   "cell_type": "markdown",
   "source": [
    "<hr style=\"border-top: 2px solid #444\">"
   ],
   "metadata": {
    "collapsed": false
   }
  },
  {
   "cell_type": "markdown",
   "source": [
    "## IV. Intrusion Detection - Binary Classification Model"
   ],
   "metadata": {
    "collapsed": false
   }
  },
  {
   "cell_type": "markdown",
   "source": [
    "### Create Model"
   ],
   "metadata": {
    "collapsed": false
   }
  },
  {
   "cell_type": "code",
   "execution_count": 17,
   "outputs": [
    {
     "name": "stdout",
     "output_type": "stream",
     "text": [
      "Model: \"kdd_cup_1999_classification\"\n",
      "_________________________________________________________________\n",
      "Layer (type)                 Output Shape              Param #   \n",
      "=================================================================\n",
      "dense (Dense)                (None, 64)                7680      \n",
      "_________________________________________________________________\n",
      "dense_1 (Dense)              (None, 32)                2080      \n",
      "_________________________________________________________________\n",
      "dense_2 (Dense)              (None, 16)                528       \n",
      "_________________________________________________________________\n",
      "dense_3 (Dense)              (None, 2)                 34        \n",
      "=================================================================\n",
      "Total params: 10,322\n",
      "Trainable params: 10,322\n",
      "Non-trainable params: 0\n",
      "_________________________________________________________________\n"
     ]
    }
   ],
   "source": [
    "# build model\n",
    "model = Sequential(\n",
    "    [\n",
    "        Dense(64, input_dim=tf_input['train'].shape[1]),\n",
    "        Dense(32, activation='relu'),\n",
    "        Dense(16, activation='relu'),\n",
    "        Dense(tf_output['train'].shape[1], activation='softmax')\n",
    "    ],\n",
    "    name=\"kdd_cup_1999_classification\"\n",
    ")\n",
    "\n",
    "model.compile(loss='categorical_crossentropy', optimizer='adam', metrics=['accuracy'])\n",
    "\n",
    "# print model summary\n",
    "model.summary()"
   ],
   "metadata": {
    "collapsed": false,
    "pycharm": {
     "name": "#%%\n"
    }
   }
  },
  {
   "cell_type": "markdown",
   "source": [
    "### Train Model"
   ],
   "metadata": {
    "collapsed": false
   }
  },
  {
   "cell_type": "code",
   "execution_count": 18,
   "outputs": [
    {
     "name": "stdout",
     "output_type": "stream",
     "text": [
      "WARNING:tensorflow:Callbacks method `on_test_batch_end` is slow compared to the batch time (batch time: 0.0000s vs `on_test_batch_end` time: 0.0010s). Check your callbacks.\n",
      "Model trained in 192.264841 seconds\n"
     ]
    },
    {
     "data": {
      "text/plain": "<IPython.core.display.HTML object>",
      "text/html": "    <details>        <summary><b>➤ Training Details</b></summary>        Epoch 1/1000<br>12701/12701 - 14s - loss: 0.0190 - accuracy: 0.9946 - val_loss: 0.0066 - val_accuracy: 0.9981<br>Epoch 2/1000<br>12701/12701 - 15s - loss: 0.0098 - accuracy: 0.9974 - val_loss: 0.0075 - val_accuracy: 0.9983<br>Epoch 3/1000<br>12701/12701 - 13s - loss: 0.0079 - accuracy: 0.9978 - val_loss: 0.0055 - val_accuracy: 0.9986<br>Epoch 4/1000<br>12701/12701 - 14s - loss: 0.0070 - accuracy: 0.9980 - val_loss: 0.0041 - val_accuracy: 0.9990<br>Epoch 5/1000<br>12701/12701 - 14s - loss: 0.0062 - accuracy: 0.9983 - val_loss: 0.0061 - val_accuracy: 0.9986<br>Epoch 6/1000<br>12701/12701 - 14s - loss: 0.0058 - accuracy: 0.9984 - val_loss: 0.0056 - val_accuracy: 0.9987<br>Epoch 7/1000<br>12701/12701 - 13s - loss: 0.0055 - accuracy: 0.9985 - val_loss: 0.0044 - val_accuracy: 0.9990<br>Epoch 8/1000<br>12701/12701 - 13s - loss: 0.0053 - accuracy: 0.9985 - val_loss: 0.0071 - val_accuracy: 0.9987<br>Epoch 9/1000<br>12701/12701 - 13s - loss: 0.0049 - accuracy: 0.9986 - val_loss: 0.0064 - val_accuracy: 0.9988<br>Epoch 10/1000<br>12701/12701 - 14s - loss: 0.0047 - accuracy: 0.9987 - val_loss: 0.0077 - val_accuracy: 0.9985<br>Epoch 11/1000<br>12701/12701 - 13s - loss: 0.0047 - accuracy: 0.9987 - val_loss: 0.0068 - val_accuracy: 0.9988<br>Epoch 12/1000<br>12701/12701 - 15s - loss: 0.0045 - accuracy: 0.9987 - val_loss: 0.0067 - val_accuracy: 0.9987<br>Epoch 13/1000<br>12701/12701 - 12s - loss: 0.0044 - accuracy: 0.9987 - val_loss: 0.0058 - val_accuracy: 0.9989<br>Epoch 14/1000<br>12701/12701 - 15s - loss: 0.0042 - accuracy: 0.9988 - val_loss: 0.0079 - val_accuracy: 0.9986    </details>"
     },
     "metadata": {},
     "output_type": "display_data"
    }
   ],
   "source": [
    "start_time = time()\n",
    "\n",
    "# store standard out stream\n",
    "original_stdout = sys.stdout\n",
    "# replace standard out for intercepting model training logs\n",
    "sys.stdout = captured_stdout = StringIO()\n",
    "\n",
    "try:\n",
    "    # make temporary directory for saved model\n",
    "    if not os.path.exists(\"temp\"):\n",
    "        os.mkdir(\"temp\")\n",
    "\n",
    "    # perform model training\n",
    "    model.fit(\n",
    "        # training data\n",
    "        tf_input['train'], tf_output['train'],\n",
    "        # use test data to validate losses, but not for training\n",
    "        validation_data=(tf_input['validate'], tf_output['validate']),\n",
    "        callbacks=[\n",
    "            # patience: number of epochs with no improvement after which training will be stopped\n",
    "            EarlyStopping(monitor='val_loss', min_delta=.001, patience=10, mode='auto', verbose=0),\n",
    "            # save best model from all epochs\n",
    "            ModelCheckpoint(filepath=\"temp/model_best_weights.hdf5\", save_best_only=True, verbose=0)\n",
    "        ],\n",
    "        epochs=1000,\n",
    "        verbose=2,\n",
    "    )\n",
    "finally:\n",
    "    # restore standard out\n",
    "    sys.stdout = original_stdout\n",
    "\n",
    "# metrics\n",
    "print(f\"Model trained in {time() - start_time:.6f} seconds\")\n",
    "# noinspection PyTypeChecker\n",
    "display(HTML(f'\\\n",
    "    <details>\\\n",
    "        <summary><b>➤ Training Details</b></summary>\\\n",
    "        {\"<br>\".join(captured_stdout.getvalue().splitlines())}\\\n",
    "    </details>\\\n",
    "'))"
   ],
   "metadata": {
    "collapsed": false,
    "pycharm": {
     "name": "#%%\n"
    }
   }
  },
  {
   "cell_type": "markdown",
   "source": [
    "## V. Model Analysis"
   ],
   "metadata": {
    "collapsed": false
   }
  },
  {
   "cell_type": "markdown",
   "source": [
    "### Model Predictions"
   ],
   "metadata": {
    "collapsed": false
   }
  },
  {
   "cell_type": "code",
   "execution_count": 19,
   "outputs": [
    {
     "name": "stdout",
     "output_type": "stream",
     "text": [
      "Predicted 571,692 classifications in 10.469674 seconds\n"
     ]
    }
   ],
   "source": [
    "start_time = time()\n",
    "\n",
    "# load best model for prediction\n",
    "model.load_weights(\"temp/model_best_weights.hdf5\")\n",
    "# compute predicted ratings for test dataset\n",
    "predicted = numpy.argmax(model.predict(tf_input['test']), axis=1)\n",
    "\n",
    "print(f\"Predicted {len(predicted):,} classifications in {time() - start_time:.6f} seconds\")"
   ],
   "metadata": {
    "collapsed": false,
    "pycharm": {
     "name": "#%%\n"
    }
   }
  },
  {
   "cell_type": "markdown",
   "source": [
    "### Model Accuracy - Error Scoring"
   ],
   "metadata": {
    "collapsed": false
   }
  },
  {
   "cell_type": "code",
   "execution_count": 20,
   "outputs": [
    {
     "data": {
      "text/plain": "           normal  intrusion\nnormal     406017        423\nintrusion     158     165094",
      "text/html": "<div>\n<style scoped>\n    .dataframe tbody tr th:only-of-type {\n        vertical-align: middle;\n    }\n\n    .dataframe tbody tr th {\n        vertical-align: top;\n    }\n\n    .dataframe thead th {\n        text-align: right;\n    }\n</style>\n<table border=\"1\" class=\"dataframe\">\n  <thead>\n    <tr style=\"text-align: right;\">\n      <th></th>\n      <th>normal</th>\n      <th>intrusion</th>\n    </tr>\n  </thead>\n  <tbody>\n    <tr>\n      <th>normal</th>\n      <td>406017</td>\n      <td>423</td>\n    </tr>\n    <tr>\n      <th>intrusion</th>\n      <td>158</td>\n      <td>165094</td>\n    </tr>\n  </tbody>\n</table>\n</div>"
     },
     "metadata": {},
     "output_type": "display_data"
    },
    {
     "data": {
      "text/plain": "<Figure size 432x288 with 2 Axes>",
      "image/png": "[encoded data removed]"
     },
     "metadata": {
      "needs_background": "light"
     },
     "output_type": "display_data"
    },
    {
     "name": "stdout",
     "output_type": "stream",
     "text": [
      "              precision    recall  f1-score   support\n",
      "\n",
      "      normal     0.9996    0.9990    0.9993    406440\n",
      "   intrusion     0.9974    0.9990    0.9982    165252\n",
      "\n",
      "    accuracy                         0.9990    571692\n",
      "   macro avg     0.9985    0.9990    0.9988    571692\n",
      "weighted avg     0.9990    0.9990    0.9990    571692\n",
      "\n"
     ]
    }
   ],
   "source": [
    "\n",
    "# compute confusion matrix\n",
    "true_output = numpy.argmax(tf_output['test'].to_numpy(), axis=1)\n",
    "cm = confusion_matrix(true_output, predicted)\n",
    "\n",
    "# display confusion matrix values\n",
    "display(pandas.DataFrame(cm, columns=tf_output['test'].columns, index=tf_output['test'].columns))\n",
    "# display a confusion matrix visualization\n",
    "pyplot.figure()\n",
    "pyplot.imshow(cm, interpolation='nearest', cmap=pyplot.cm.Blues)\n",
    "pyplot.title(\"Confusion Matrix\")\n",
    "pyplot.colorbar()\n",
    "tick_marks = numpy.arange(len(tf_output['test'].columns))\n",
    "pyplot.xticks(tick_marks, tf_output['test'].columns)\n",
    "pyplot.yticks(tick_marks, tf_output['test'].columns, rotation = 45)\n",
    "pyplot.tight_layout()\n",
    "pyplot.ylabel('True Classification')\n",
    "pyplot.xlabel('Predicted Classification')\n",
    "pyplot.show()\n",
    "\n",
    "# print error scoring\n",
    "print(classification_report(\n",
    "    true_output, predicted,\n",
    "    digits=4,\n",
    "    target_names=tf_output['test'].columns\n",
    "))"
   ],
   "metadata": {
    "collapsed": false,
    "pycharm": {
     "name": "#%%\n"
    }
   }
  },
  {
   "cell_type": "markdown",
   "source": [
    "### Feature Importance"
   ],
   "metadata": {
    "collapsed": false,
    "pycharm": {
     "name": "#%% md\n"
    }
   }
  },
  {
   "cell_type": "markdown",
   "source": [
    "<hr style=\"border-top: 2px solid #444\">"
   ],
   "metadata": {
    "collapsed": false
   }
  },
  {
   "cell_type": "markdown",
   "source": [
    "## VI. Conclusion"
   ],
   "metadata": {
    "collapsed": false
   }
  }
 ],
 "metadata": {
  "kernelspec": {
   "display_name": "Python 3",
   "language": "python",
   "name": "python3"
  },
  "language_info": {
   "codemirror_mode": {
    "name": "ipython",
    "version": 2
   },
   "file_extension": ".py",
   "mimetype": "text/x-python",
   "name": "python",
   "nbconvert_exporter": "python",
   "pygments_lexer": "ipython2",
   "version": "2.7.6"
  }
 },
 "nbformat": 4,
 "nbformat_minor": 0
}